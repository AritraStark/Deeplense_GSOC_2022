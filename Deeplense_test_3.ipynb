{
  "nbformat": 4,
  "nbformat_minor": 0,
  "metadata": {
    "colab": {
      "name": "Deeplense_test_3.ipynb",
      "provenance": [],
      "authorship_tag": "ABX9TyNRnmwYpkmkGUFsX7jtxOKz",
      "include_colab_link": true
    },
    "kernelspec": {
      "name": "python3",
      "display_name": "Python 3"
    },
    "language_info": {
      "name": "python"
    }
  },
  "cells": [
    {
      "cell_type": "markdown",
      "metadata": {
        "id": "view-in-github",
        "colab_type": "text"
      },
      "source": [
        "<a href=\"https://colab.research.google.com/github/AritraStark/Deeplense_GSOC_2022/blob/main/Deeplense_test_3.ipynb\" target=\"_parent\"><img src=\"https://colab.research.google.com/assets/colab-badge.svg\" alt=\"Open In Colab\"/></a>"
      ]
    },
    {
      "cell_type": "markdown",
      "source": [
        "Downloading the data and extracting: "
      ],
      "metadata": {
        "id": "iBszmposjtB3"
      }
    },
    {
      "cell_type": "code",
      "execution_count": 5,
      "metadata": {
        "colab": {
          "base_uri": "https://localhost:8080/"
        },
        "id": "_0bNptLJhAc4",
        "outputId": "7527d366-dd25-4efa-a886-bf7dd2e755f0"
      },
      "outputs": [
        {
          "output_type": "stream",
          "name": "stdout",
          "text": [
            "Drive already mounted at /content/gdrive; to attempt to forcibly remount, call drive.mount(\"/content/gdrive\", force_remount=True).\n",
            "Extraction done.\n"
          ]
        }
      ],
      "source": [
        "from google.colab import drive\n",
        "drive.mount('/content/gdrive')\n",
        "!tar --extract --file '/content/gdrive/MyDrive/lens_data_alt.tgz' \n",
        "print('Extraction done.')"
      ]
    },
    {
      "cell_type": "markdown",
      "source": [
        "Setting up imports"
      ],
      "metadata": {
        "id": "EfGvsGfPj0sN"
      }
    },
    {
      "cell_type": "code",
      "source": [
        "import os\n",
        "import numpy as np\n",
        "import tensorflow as tf\n",
        "import cv2\n",
        "from sklearn.metrics import roc_auc_score, roc_curve, auc, classification_report\n",
        "import matplotlib.pyplot as plt\n",
        "import random\n",
        "from sklearn.preprocessing import LabelEncoder"
      ],
      "metadata": {
        "id": "NW7gSPawj1nV"
      },
      "execution_count": null,
      "outputs": []
    },
    {
      "cell_type": "markdown",
      "source": [
        ""
      ],
      "metadata": {
        "id": "ick3mtWvnYKm"
      }
    },
    {
      "cell_type": "code",
      "source": [
        "dataset = os.listdir('lens_data')\n",
        "X = []\n",
        "y = []\n",
        "j = 1\n",
        "for i in d:\n",
        "    data = np.load('lens_data/' + i, allow_pickle=True)\n",
        "    img = data[0]\n",
        "    img = img / 255.0\n",
        "    img = cv2.resize(img, (64, 64))\n",
        "    img = np.stack((img, img, img), axis=-1)\n",
        "    X.append(img)\n",
        "    y.append(data[1])\n",
        "    print(j)\n",
        "    j += 1\n",
        "\n",
        "X = np.array(X)\n",
        "y = np.array(y)\n",
        "X.shape, y.shape"
      ],
      "metadata": {
        "id": "4Fw0aASdnZBB"
      },
      "execution_count": null,
      "outputs": []
    },
    {
      "cell_type": "code",
      "source": [
        "plt.figure(figsize=(20, 20))\n",
        "for i in range(25):\n",
        "    plt.subplot(5, 5, i + 1)\n",
        "    plt.imshow(X[i])\n",
        "    plt.title(y[i])\n",
        "    plt.axis('off')\n",
        "plt.show()"
      ],
      "metadata": {
        "id": "ntf5WcYTnssX"
      },
      "execution_count": null,
      "outputs": []
    },
    {
      "cell_type": "code",
      "source": [
        "train_X, test_X, train_y, test_y = train_test_split(X, y, test_size=0.1, random_state=42, shuffle=True)"
      ],
      "metadata": {
        "id": "1fh8Umf2nzCP"
      },
      "execution_count": null,
      "outputs": []
    },
    {
      "cell_type": "code",
      "source": [
        "model = tf.keras.models.Sequential([\n",
        "    tf.keras.layers.Conv2D(64, (3, 3), activation='relu', input_shape=(64, 64, 3)),\n",
        "    tf.keras.layers.MaxPooling2D(pool_size=(2, 2)),\n",
        "    tf.keras.layers.Conv2D(64, (3, 3), activation='relu'),\n",
        "    tf.keras.layers.MaxPooling2D(pool_size=(2, 2)),\n",
        "    tf.keras.layers.Conv2D(64, (3, 3), activation='relu'),\n",
        "    tf.keras.layers.MaxPooling2D(pool_size=(2, 2)),\n",
        "    tf.keras.layers.Flatten(),\n",
        "    tf.keras.layers.Dense(64, activation='relu'),\n",
        "    tf.keras.layers.Dense(64, activation='relu'),\n",
        "    tf.keras.layers.Dense(1)\n",
        "])\n",
        "\n",
        "model.compile(optimizer='adam', loss='mse')\n",
        "\n",
        "model.summary()"
      ],
      "metadata": {
        "id": "Izjt_cSeoMLQ"
      },
      "execution_count": null,
      "outputs": []
    },
    {
      "cell_type": "code",
      "source": [
        "history = model.fit(train_X, train_y, epochs=10, validation_data=(test_X, test_y))"
      ],
      "metadata": {
        "id": "33iXc4KCoOLZ"
      },
      "execution_count": null,
      "outputs": []
    },
    {
      "cell_type": "code",
      "source": [
        "mse = model.evaluate(test_X, test_y)"
      ],
      "metadata": {
        "id": "pcqMwjcooSK3"
      },
      "execution_count": null,
      "outputs": []
    },
    {
      "cell_type": "code",
      "source": [
        "plt.figure()\n",
        "plt.title('MSE')\n",
        "plt.xlabel('Epoch')\n",
        "plt.ylabel('MSE')\n",
        "plt.plot(history.history['loss'], label='train')\n",
        "plt.plot(history.history['val_loss'], label='test')\n",
        "plt.legend()\n",
        "plt.show()"
      ],
      "metadata": {
        "id": "8o3w4PB8oZwE"
      },
      "execution_count": null,
      "outputs": []
    },
    {
      "cell_type": "code",
      "source": [
        "model.save_weights('test-3-model-CNN.h5')"
      ],
      "metadata": {
        "id": "iZCDpdq0objZ"
      },
      "execution_count": null,
      "outputs": []
    }
  ]
}